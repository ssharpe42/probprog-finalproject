{
 "cells": [
  {
   "cell_type": "markdown",
   "metadata": {},
   "source": [
    "# Poisson Baseball"
   ]
  },
  {
   "cell_type": "markdown",
   "metadata": {},
   "source": [
    "Adapted from http://pyro.ai/examples/bayesian_regression_ii.html"
   ]
  },
  {
   "cell_type": "code",
   "execution_count": 1,
   "metadata": {},
   "outputs": [],
   "source": [
    "import logging\n",
    "import os\n",
    "\n",
    "import matplotlib.pyplot as plt\n",
    "import numpy as np\n",
    "import pandas as pd\n",
    "import seaborn as sns\n",
    "import torch\n",
    "from torch.distributions import constraints\n",
    "from torch.nn.functional import softplus\n",
    "\n",
    "import pyro\n",
    "import pyro.distributions as dist\n",
    "from pyro.infer import EmpiricalMarginal, SVI, Trace_ELBO, JitTrace_ELBO\n",
    "from pyro.contrib.autoguide import AutoMultivariateNormal\n",
    "from pyro.infer.mcmc.api import MCMC\n",
    "from pyro.infer.mcmc import NUTS\n",
    "import pyro.optim as optim\n",
    "\n",
    "pyro.set_rng_seed(1)\n",
    "assert pyro.__version__.startswith('0.4.1')"
   ]
  },
  {
   "cell_type": "code",
   "execution_count": 14,
   "metadata": {},
   "outputs": [],
   "source": [
    "%matplotlib inline\n",
    "logging.basicConfig(format='%(message)s', level=logging.INFO)\n",
    "# Enable validation checks\n",
    "pyro.enable_validation(True)\n",
    "smoke_test = ('CI' in os.environ)\n",
    "pyro.set_rng_seed(1)"
   ]
  },
  {
   "cell_type": "code",
   "execution_count": 2,
   "metadata": {},
   "outputs": [
    {
     "name": "stderr",
     "output_type": "stream",
     "text": [
      "/Users/Sam/.pyenv/versions/probprog/lib/python3.7/site-packages/IPython/core/interactiveshell.py:3058: DtypeWarning: Columns (63,64,65,84,85) have mixed types. Specify dtype option on import or set low_memory=False.\n",
      "  interactivity=interactivity, compiler=compiler, result=result)\n"
     ]
    }
   ],
   "source": [
    "data = pd.read_csv('all2018.csv', header = None).iloc[:,0:97]\n",
    "headers = pd.read_csv('EventFields.csv')\n",
    "data.columns = headers.Headers.values"
   ]
  },
  {
   "cell_type": "code",
   "execution_count": 3,
   "metadata": {},
   "outputs": [],
   "source": [
    "boolean_cols = data.filter(regex = '_FL$').columns\n",
    "data.loc[:,boolean_cols] = data.loc[:,boolean_cols].replace({'T':True,'F':False})"
   ]
  },
  {
   "cell_type": "code",
   "execution_count": 4,
   "metadata": {},
   "outputs": [],
   "source": [
    "# Create base state\n",
    "data['base_state'] =  data.BASE1_RUN_ID.notnull().replace({True:'1', False:'_'})+\\\n",
    "                         data.BASE2_RUN_ID.notnull().replace({True:'2', False:'_'})+\\\n",
    "                         data.BASE3_RUN_ID.notnull().replace({True:'3', False:'_'})\n",
    "data['base_out_state'] = data['base_state']+'_'+ data.OUTS_CT.astype(str) \n",
    "data['BAT_SCORE_CT'] = np.where(data.BAT_HOME_ID==1, data.HOME_SCORE_CT, data.AWAY_SCORE_CT)\n",
    "data['END_OUTS_CT'] = data.OUTS_CT + data.EVENT_OUTS_CT"
   ]
  },
  {
   "cell_type": "code",
   "execution_count": 5,
   "metadata": {},
   "outputs": [],
   "source": [
    "data_full_inn = (data.groupby(['GAME_ID', 'INN_CT','BAT_HOME_ID'])\n",
    "    .filter(lambda x: (x['END_OUTS_CT']==3).any()))"
   ]
  },
  {
   "cell_type": "code",
   "execution_count": 6,
   "metadata": {},
   "outputs": [
    {
     "name": "stderr",
     "output_type": "stream",
     "text": [
      "/Users/Sam/.pyenv/versions/probprog/lib/python3.7/site-packages/ipykernel_launcher.py:1: SettingWithCopyWarning: \n",
      "A value is trying to be set on a copy of a slice from a DataFrame.\n",
      "Try using .loc[row_indexer,col_indexer] = value instead\n",
      "\n",
      "See the caveats in the documentation: http://pandas.pydata.org/pandas-docs/stable/user_guide/indexing.html#returning-a-view-versus-a-copy\n",
      "  \"\"\"Entry point for launching an IPython kernel.\n",
      "/Users/Sam/.pyenv/versions/probprog/lib/python3.7/site-packages/ipykernel_launcher.py:2: SettingWithCopyWarning: \n",
      "A value is trying to be set on a copy of a slice from a DataFrame.\n",
      "Try using .loc[row_indexer,col_indexer] = value instead\n",
      "\n",
      "See the caveats in the documentation: http://pandas.pydata.org/pandas-docs/stable/user_guide/indexing.html#returning-a-view-versus-a-copy\n",
      "  \n"
     ]
    }
   ],
   "source": [
    "data_full_inn['END_BAT_SCORE_CT'] = data_full_inn.groupby(['GAME_ID', 'INN_CT','BAT_HOME_ID'])['BAT_SCORE_CT'].transform('last')\n",
    "data_full_inn['score_remaining'] = data_full_inn['END_BAT_SCORE_CT']-data_full_inn['BAT_SCORE_CT']"
   ]
  },
  {
   "cell_type": "code",
   "execution_count": 7,
   "metadata": {},
   "outputs": [],
   "source": [
    "data_full_inn = data_full_inn.sample(frac = .25)"
   ]
  },
  {
   "cell_type": "code",
   "execution_count": 8,
   "metadata": {},
   "outputs": [
    {
     "data": {
      "text/html": [
       "<div>\n",
       "<style scoped>\n",
       "    .dataframe tbody tr th:only-of-type {\n",
       "        vertical-align: middle;\n",
       "    }\n",
       "\n",
       "    .dataframe tbody tr th {\n",
       "        vertical-align: top;\n",
       "    }\n",
       "\n",
       "    .dataframe thead th {\n",
       "        text-align: right;\n",
       "    }\n",
       "</style>\n",
       "<table border=\"1\" class=\"dataframe\">\n",
       "  <thead>\n",
       "    <tr style=\"text-align: right;\">\n",
       "      <th>OUTS_CT</th>\n",
       "      <th>0</th>\n",
       "      <th>1</th>\n",
       "      <th>2</th>\n",
       "    </tr>\n",
       "    <tr>\n",
       "      <th>base_state</th>\n",
       "      <th></th>\n",
       "      <th></th>\n",
       "      <th></th>\n",
       "    </tr>\n",
       "  </thead>\n",
       "  <tbody>\n",
       "    <tr>\n",
       "      <th>123</th>\n",
       "      <td>2.275</td>\n",
       "      <td>1.527</td>\n",
       "      <td>0.730</td>\n",
       "    </tr>\n",
       "    <tr>\n",
       "      <th>12_</th>\n",
       "      <td>1.500</td>\n",
       "      <td>0.860</td>\n",
       "      <td>0.406</td>\n",
       "    </tr>\n",
       "    <tr>\n",
       "      <th>1_3</th>\n",
       "      <td>1.910</td>\n",
       "      <td>1.295</td>\n",
       "      <td>0.501</td>\n",
       "    </tr>\n",
       "    <tr>\n",
       "      <th>1__</th>\n",
       "      <td>0.875</td>\n",
       "      <td>0.532</td>\n",
       "      <td>0.214</td>\n",
       "    </tr>\n",
       "    <tr>\n",
       "      <th>_23</th>\n",
       "      <td>1.690</td>\n",
       "      <td>1.344</td>\n",
       "      <td>0.435</td>\n",
       "    </tr>\n",
       "    <tr>\n",
       "      <th>_2_</th>\n",
       "      <td>1.128</td>\n",
       "      <td>0.683</td>\n",
       "      <td>0.295</td>\n",
       "    </tr>\n",
       "    <tr>\n",
       "      <th>__3</th>\n",
       "      <td>1.462</td>\n",
       "      <td>0.993</td>\n",
       "      <td>0.343</td>\n",
       "    </tr>\n",
       "    <tr>\n",
       "      <th>___</th>\n",
       "      <td>0.505</td>\n",
       "      <td>0.261</td>\n",
       "      <td>0.090</td>\n",
       "    </tr>\n",
       "  </tbody>\n",
       "</table>\n",
       "</div>"
      ],
      "text/plain": [
       "OUTS_CT         0      1      2\n",
       "base_state                     \n",
       "123         2.275  1.527  0.730\n",
       "12_         1.500  0.860  0.406\n",
       "1_3         1.910  1.295  0.501\n",
       "1__         0.875  0.532  0.214\n",
       "_23         1.690  1.344  0.435\n",
       "_2_         1.128  0.683  0.295\n",
       "__3         1.462  0.993  0.343\n",
       "___         0.505  0.261  0.090"
      ]
     },
     "execution_count": 8,
     "metadata": {},
     "output_type": "execute_result"
    }
   ],
   "source": [
    "RE_MAT = (data_full_inn.groupby(['base_state','OUTS_CT'])['score_remaining']\n",
    "    .mean().reset_index()\n",
    "    .pivot_table(index = 'base_state', columns = 'OUTS_CT', values = 'score_remaining')\n",
    "    .round(3))\n",
    "\n",
    "RE_MAT"
   ]
  },
  {
   "cell_type": "markdown",
   "metadata": {},
   "source": [
    "## Bayesian Poisson Regression\n"
   ]
  },
  {
   "cell_type": "markdown",
   "metadata": {},
   "source": [
    "## Model + Guide\n",
    "\n",
    "We will write out the model again, similar to that in [Part I](bayesian_regression.ipynb), but explicitly without the use of `nn.Module`.  We will write out each term in the regression, using the same priors. `bA` and `bR` are regression coefficients corresponding to  `is_cont_africa` and `ruggedness`, `a` is the intercept, and `bAR` is the correlating factor between the two features.\n",
    "\n",
    "Writing down a guide will proceed in close analogy to the construction of our model, with the key difference that the guide parameters need to be trainable. To do this we register the guide parameters in the ParamStore using `pyro.param()`. Note the positive constraints on scale parameters."
   ]
  },
  {
   "cell_type": "code",
   "execution_count": 9,
   "metadata": {},
   "outputs": [],
   "source": [
    "# Prepare data for pytorch\n",
    "#All dummy values\n",
    "dummies= pd.get_dummies(data_full_inn.base_out_state)\n",
    "state_names = dummies.columns\n",
    "states = torch.tensor(dummies.values, dtype=torch.float)\n",
    "runs = torch.tensor(data_full_inn.score_remaining.values, dtype=torch.float)\n",
    "pyro.clear_param_store()"
   ]
  },
  {
   "cell_type": "code",
   "execution_count": 23,
   "metadata": {},
   "outputs": [
    {
     "data": {
      "text/plain": [
       "Index(['123_0', '123_1', '123_2', '12__0', '12__1', '12__2', '1_3_0', '1_3_1',\n",
       "       '1_3_2', '1___0', '1___1', '1___2', '_23_0', '_23_1', '_23_2', '_2__0',\n",
       "       '_2__1', '_2__2', '__3_0', '__3_1', '__3_2', '____0', '____1', '____2'],\n",
       "      dtype='object')"
      ]
     },
     "execution_count": 23,
     "metadata": {},
     "output_type": "execute_result"
    }
   ],
   "source": [
    "state_names"
   ]
  },
  {
   "cell_type": "code",
   "execution_count": 10,
   "metadata": {},
   "outputs": [],
   "source": [
    "def model(states, runs):\n",
    "    \n",
    "    coef={}\n",
    "    for s in state_names:\n",
    "        coef[s] = pyro.sample(s, dist.Normal(.45, 1))\n",
    "    \n",
    "    log_lmbda = 0\n",
    "    for i in range(len(state_names)):\n",
    "        log_lmbda += coef[state_names[i]]*states[:,i]\n",
    "    \n",
    "    lmbda = log_lmbda.exp()\n",
    "    \n",
    "    with pyro.plate(\"data\", len(runs)):\n",
    "        y = pyro.sample(\"obs\", dist.Poisson(lmbda), obs=runs)\n",
    "    \n",
    "    return y"
   ]
  },
  {
   "cell_type": "code",
   "execution_count": 15,
   "metadata": {},
   "outputs": [],
   "source": [
    "def guide(states, runs):\n",
    "    weights_loc = pyro.param('weights_loc', torch.randn(states.shape[1])+.45)\n",
    "    weights_scale = pyro.param('weights_scale', torch.ones(states.shape[1]), \n",
    "                               constraint=constraints.positive)        \n",
    "    \n",
    "    coef = {}\n",
    "    for i in range(len(state_names)):\n",
    "        s = state_names[i]\n",
    "        coef[s] = pyro.sample(s, dist.Normal(weights_loc[i], weights_scale[i]))\n",
    "    \n",
    "    log_lmbda = 0\n",
    "    for i in range(len(state_names)):\n",
    "        log_lmbda += coef[state_names[i]]*states[:,i]\n",
    "        \n",
    "    lmbda = log_lmbda.exp()"
   ]
  },
  {
   "cell_type": "code",
   "execution_count": 16,
   "metadata": {},
   "outputs": [],
   "source": [
    "# Utility function to print latent sites' quantile information.\n",
    "def summary(samples):\n",
    "    site_stats = {}\n",
    "    for site_name, values in samples.items():\n",
    "        marginal_site = pd.DataFrame(values)\n",
    "        describe = marginal_site.describe(percentiles=[.05, 0.25, 0.5, 0.75, 0.95]).transpose()\n",
    "        site_stats[site_name] = describe[[\"mean\", \"std\", \"5%\", \"25%\", \"50%\", \"75%\", \"95%\"]]\n",
    "    return site_stats"
   ]
  },
  {
   "cell_type": "markdown",
   "metadata": {},
   "source": [
    "## SVI\n",
    "\n",
    "As before, we will use SVI to perform inference."
   ]
  },
  {
   "cell_type": "code",
   "execution_count": 17,
   "metadata": {},
   "outputs": [
    {
     "name": "stderr",
     "output_type": "stream",
     "text": [
      "/Users/Sam/.pyenv/versions/probprog/lib/python3.7/site-packages/ipykernel_launcher.py:13: TracerWarning: Converting a tensor to a Python index might cause the trace to be incorrect. We can't record the data flow of Python values, so this value will be treated as a constant in the future. This means that the trace might not generalize to other inputs!\n",
      "  del sys.path[0]\n",
      "Elbo loss: 368129.53125\n",
      "Elbo loss: 76322.5078125\n",
      "Elbo loss: 64047.40234375\n",
      "Elbo loss: 64358.83984375\n",
      "Elbo loss: 55739.86328125\n",
      "Elbo loss: 53189.2578125\n",
      "Elbo loss: 51262.7421875\n",
      "Elbo loss: 50278.44921875\n",
      "Elbo loss: 46407.71875\n",
      "Elbo loss: 46489.671875\n",
      "Elbo loss: 46064.77734375\n",
      "Elbo loss: 45081.8046875\n",
      "Elbo loss: 45430.51171875\n",
      "Elbo loss: 44933.23828125\n",
      "Elbo loss: 44948.8359375\n",
      "Elbo loss: 44981.015625\n",
      "Elbo loss: 44942.49609375\n",
      "Elbo loss: 44902.13671875\n",
      "Elbo loss: 44899.94921875\n",
      "Elbo loss: 44901.34375\n"
     ]
    }
   ],
   "source": [
    "pyro.clear_param_store()\n",
    "svi = SVI(model, \n",
    "          guide, \n",
    "          optim.Adam({\"lr\": .005}), \n",
    "          loss=JitTrace_ELBO(), \n",
    "          num_samples=1000)\n",
    "\n",
    "pyro.clear_param_store()\n",
    "num_iters = 10000 if not smoke_test else 2\n",
    "for i in range(num_iters):\n",
    "    elbo = svi.step(states, runs)\n",
    "    if i % 500 == 0:\n",
    "        logging.info(\"Elbo loss: {}\".format(elbo))"
   ]
  },
  {
   "cell_type": "code",
   "execution_count": 18,
   "metadata": {},
   "outputs": [],
   "source": [
    "svi_diagnorm_posterior = svi.run(states, runs)"
   ]
  },
  {
   "cell_type": "markdown",
   "metadata": {},
   "source": [
    "Let us observe the posterior distribution over the different latent variables in the model."
   ]
  },
  {
   "cell_type": "code",
   "execution_count": 19,
   "metadata": {},
   "outputs": [
    {
     "name": "stdout",
     "output_type": "stream",
     "text": [
      "Site: 123_0\n",
      "       mean       std        5%       25%      50%       75%       95%\n",
      "0  2.317859  1.053036  2.123747  2.243264  2.31966  2.397665  2.516123 \n",
      "\n",
      "Site: 123_1\n",
      "       mean      std        5%      25%       50%       75%       95%\n",
      "0  1.522285  1.03869  1.429291  1.48337  1.522077  1.564662  1.616208 \n",
      "\n",
      "Site: 123_2\n",
      "       mean       std        5%       25%       50%       75%       95%\n",
      "0  0.740579  1.052017  0.680834  0.715814  0.738691  0.770008  0.803228 \n",
      "\n",
      "Site: 12__0\n",
      "       mean       std        5%       25%       50%       75%       95%\n",
      "0  1.493237  1.033093  1.415623  1.463582  1.491769  1.524566  1.576028 \n",
      "\n",
      "Site: 12__1\n",
      "       mean       std       5%      25%       50%       75%       95%\n",
      "0  0.863335  1.032818  0.81999  0.84529  0.863045  0.882462  0.911049 \n",
      "\n",
      "Site: 12__2\n",
      "       mean       std        5%       25%       50%       75%       95%\n",
      "0  0.407149  1.046096  0.377473  0.395515  0.407215  0.419345  0.437414 \n",
      "\n",
      "Site: 1_3_0\n",
      "       mean       std        5%       25%       50%      75%      95%\n",
      "0  1.919865  1.050615  1.768387  1.859153  1.919784  1.97968  2.08367 \n",
      "\n",
      "Site: 1_3_1\n",
      "       mean       std        5%       25%       50%       75%       95%\n",
      "0  1.294449  1.040427  1.211913  1.259731  1.293806  1.333462  1.381667 \n",
      "\n",
      "Site: 1_3_2\n",
      "       mean       std        5%       25%      50%       75%       95%\n",
      "0  0.515991  1.074525  0.460182  0.491258  0.51507  0.542097  0.579796 \n",
      "\n",
      "Site: 1___0\n",
      "       mean       std        5%      25%      50%       75%       95%\n",
      "0  0.868591  1.070586  0.775634  0.83007  0.86783  0.910608  0.970821 \n",
      "\n",
      "Site: 1___1\n",
      "       mean       std       5%       25%       50%       75%       95%\n",
      "0  0.535116  1.079827  0.46724  0.509955  0.537135  0.563058  0.609673 \n",
      "\n",
      "Site: 1___2\n",
      "       mean       std        5%      25%       50%     75%       95%\n",
      "0  0.220383  1.091677  0.190808  0.20801  0.220511  0.2337  0.253542 \n",
      "\n",
      "Site: _23_0\n",
      "       mean       std        5%       25%       50%       75%       95%\n",
      "0  1.683829  1.060553  1.532383  1.616802  1.681511  1.752034  1.865729 \n",
      "\n",
      "Site: _23_1\n",
      "       mean       std        5%       25%       50%       75%       95%\n",
      "0  1.358742  1.044638  1.270995  1.317793  1.356858  1.397677  1.460492 \n",
      "\n",
      "Site: _23_2\n",
      "      mean       std        5%       25%       50%       75%       95%\n",
      "0  0.43405  1.071146  0.387981  0.414611  0.434014  0.454419  0.487119 \n",
      "\n",
      "Site: _2__0\n",
      "       mean       std        5%       25%       50%       75%       95%\n",
      "0  1.115441  1.037893  1.047286  1.087983  1.115824  1.142684  1.187095 \n",
      "\n",
      "Site: _2__1\n",
      "       mean      std        5%       25%       50%       75%       95%\n",
      "0  0.690428  1.03366  0.653578  0.675856  0.691023  0.706345  0.728286 \n",
      "\n",
      "Site: _2__2\n",
      "       mean       std        5%       25%       50%      75%       95%\n",
      "0  0.297744  1.071749  0.264484  0.284555  0.297995  0.31176  0.333336 \n",
      "\n",
      "Site: __3_0\n",
      "       mean       std        5%       25%       50%       75%       95%\n",
      "0  1.476055  1.089749  1.282945  1.393744  1.471811  1.563661  1.703694 \n",
      "\n",
      "Site: __3_1\n",
      "       mean       std        5%       25%       50%       75%       95%\n",
      "0  0.990531  1.068277  0.890644  0.946798  0.989225  1.036554  1.105831 \n",
      "\n",
      "Site: __3_2\n",
      "       mean       std        5%       25%       50%      75%       95%\n",
      "0  0.347379  1.071959  0.310899  0.330826  0.347803  0.36404  0.389153 \n",
      "\n",
      "Site: ____0\n",
      "      mean       std        5%       25%      50%       75%       95%\n",
      "0  0.50661  1.047226  0.468728  0.491027  0.50749  0.522722  0.545262 \n",
      "\n",
      "Site: ____1\n",
      "       mean       std        5%       25%       50%      75%       95%\n",
      "0  0.261539  1.026188  0.251165  0.257202  0.261498  0.26603  0.272827 \n",
      "\n",
      "Site: ____2\n",
      "       mean       std        5%       25%       50%       75%       95%\n",
      "0  0.086319  1.287909  0.057879  0.072816  0.086842  0.101794  0.129867 \n",
      "\n"
     ]
    }
   ],
   "source": [
    "svi_samples = {s: EmpiricalMarginal(svi_diagnorm_posterior, sites = s)\n",
    "                     .enumerate_support().detach().cpu().numpy()\n",
    "               for s in state_names}\n",
    "\n",
    "for site, values in summary(svi_samples).items():\n",
    "    print(\"Site: {}\".format(site))\n",
    "    print(np.exp(values), \"\\n\")"
   ]
  },
  {
   "cell_type": "markdown",
   "metadata": {},
   "source": [
    "## Comparing Posterior Distributions\n",
    "\n",
    "Let us compare the posterior distribution of the latent variables that we obtained from variational inference with those from Hamiltonian Monte Carlo. As can be seen below, for Variational Inference, the marginal distribution of the different regression coefficients is under-dispersed w.r.t. the true posterior (from HMC). This is an artifact of the *KL(q||p)* loss (the KL divergence of the true posterior from the approximate posterior) that is minimized by Variational Inference.\n",
    "\n",
    "This can be better seen when we plot different cross sections from the joint posterior distribution overlaid with the approximate posterior from variational inference. Note that since our variational family has diagonal covariance, we cannot model any correlation between the latents and the resulting approximation is overconfident (under-dispersed)"
   ]
  },
  {
   "cell_type": "code",
   "execution_count": 21,
   "metadata": {},
   "outputs": [
    {
     "data": {
      "image/png": "[encoded data removed]",
      "text/plain": [
       "<Figure size 1728x720 with 24 Axes>"
      ]
     },
     "metadata": {
      "needs_background": "light"
     },
     "output_type": "display_data"
    }
   ],
   "source": [
    "fig, axs = plt.subplots(nrows=8, ncols=3, figsize=(24, 10))\n",
    "fig.suptitle(\"Marginal Posterior density - Regression Coefficients\", fontsize=16)\n",
    "for i, ax in enumerate(axs.reshape(-1)):\n",
    "    try:\n",
    "        site = state_names[i]\n",
    "        #sns.distplot(hmc_samples[site], ax=ax, label=\"HMC\")        \n",
    "        sns.distplot(np.exp(svi_samples[site]), ax=ax, label=\"SVI (DiagNormal)\")\n",
    "        ax.set_title(site)\n",
    "        ax.set_xlim(0,3)\n",
    "    except:\n",
    "        pass\n",
    "handles, labels = ax.get_legend_handles_labels()\n",
    "fig.legend(handles, labels, loc='upper right');"
   ]
  },
  {
   "cell_type": "code",
   "execution_count": 24,
   "metadata": {},
   "outputs": [
    {
     "data": {
      "text/plain": [
       "0.8333333333333333"
      ]
     },
     "execution_count": 24,
     "metadata": {},
     "output_type": "execute_result"
    }
   ],
   "source": [
    "1/2 + 1/3"
   ]
  },
  {
   "cell_type": "code",
   "execution_count": null,
   "metadata": {},
   "outputs": [],
   "source": []
  }
 ],
 "metadata": {
  "kernelspec": {
   "display_name": "Python 3",
   "language": "python",
   "name": "python3"
  },
  "language_info": {
   "codemirror_mode": {
    "name": "ipython",
    "version": 3
   },
   "file_extension": ".py",
   "mimetype": "text/x-python",
   "name": "python",
   "nbconvert_exporter": "python",
   "pygments_lexer": "ipython3",
   "version": "3.7.2"
  }
 },
 "nbformat": 4,
 "nbformat_minor": 4
}
