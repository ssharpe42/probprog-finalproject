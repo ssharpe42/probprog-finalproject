{
 "cells": [
  {
   "cell_type": "code",
   "execution_count": 1,
   "metadata": {},
   "outputs": [],
   "source": [
    "import pickle\n",
    "\n",
    "from station_hr_model import *\n",
    "from inference import *\n",
    "from criticism import *\n"
   ]
  },
  {
   "cell_type": "code",
   "execution_count": 2,
   "metadata": {},
   "outputs": [],
   "source": [
    "with open('data/demand_sample.pickle', 'rb') as f:\n",
    "    data_samp = pickle.load(f)\n",
    "\n",
    "\n",
    "#global features\n",
    "data, features = feature_generation(data_samp)\n",
    "\n",
    "p = station_hr_ZIP_model(features, data)\n",
    "\n",
    "\n",
    "svi_posterior = get_svi_posterior(data['data'], data['demand'],\n",
    "                                model = p.model,\n",
    "                                  guide = p.guide,\n",
    "                                  filename='models/nihaar_model/svi_zip_params.pkl')"
   ]
  },
  {
   "cell_type": "code",
   "execution_count": 23,
   "metadata": {},
   "outputs": [
    {
     "data": {
      "text/plain": [
       "{'station': {'names': array(['station_2', 'station_3', 'station_4', 'station_5', 'station_6',\n",
       "         'station_7', 'station_8', 'station_9', 'station_10', 'station_11',\n",
       "         'station_12', 'station_13', 'station_14', 'station_16',\n",
       "         'station_21', 'station_22', 'station_23', 'station_24',\n",
       "         'station_25', 'station_26', 'station_27', 'station_28',\n",
       "         'station_29', 'station_30', 'station_31', 'station_32',\n",
       "         'station_33', 'station_34', 'station_35', 'station_36',\n",
       "         'station_37', 'station_38', 'station_39', 'station_41',\n",
       "         'station_42', 'station_45', 'station_46', 'station_47',\n",
       "         'station_48', 'station_49', 'station_50', 'station_51',\n",
       "         'station_54', 'station_55', 'station_56', 'station_57',\n",
       "         'station_58', 'station_59', 'station_60', 'station_61',\n",
       "         'station_62', 'station_63', 'station_64', 'station_65',\n",
       "         'station_66', 'station_67', 'station_68', 'station_69',\n",
       "         'station_70', 'station_71', 'station_72', 'station_73',\n",
       "         'station_74', 'station_75', 'station_76', 'station_77',\n",
       "         'station_80', 'station_82', 'station_83', 'station_84'],\n",
       "        dtype=object),\n",
       "  'index': array([ 0,  1,  2,  3,  4,  5,  6,  7,  8,  9, 10, 11, 12, 13, 14, 15, 16,\n",
       "         17, 18, 19, 20, 21, 22, 23, 24, 25, 26, 27, 28, 29, 30, 31, 32, 33,\n",
       "         34, 35, 36, 37, 38, 39, 40, 41, 42, 43, 44, 45, 46, 47, 48, 49, 50,\n",
       "         51, 52, 53, 54, 55, 56, 57, 58, 59, 60, 61, 62, 63, 64, 65, 66, 67,\n",
       "         68, 69])},\n",
       " 'hour': {'names': array(['hour_0', 'hour_1', 'hour_2', 'hour_3', 'hour_4', 'hour_5',\n",
       "         'hour_6', 'hour_7', 'hour_8', 'hour_9', 'hour_10', 'hour_11',\n",
       "         'hour_12', 'hour_13', 'hour_14', 'hour_15', 'hour_16', 'hour_17',\n",
       "         'hour_18', 'hour_19', 'hour_20', 'hour_21', 'hour_22', 'hour_23'],\n",
       "        dtype=object),\n",
       "  'index': array([70, 71, 72, 73, 74, 75, 76, 77, 78, 79, 80, 81, 82, 83, 84, 85, 86,\n",
       "         87, 88, 89, 90, 91, 92, 93])}}"
      ]
     },
     "execution_count": 23,
     "metadata": {},
     "output_type": "execute_result"
    }
   ],
   "source": [
    "features"
   ]
  },
  {
   "cell_type": "code",
   "execution_count": 3,
   "metadata": {},
   "outputs": [
    {
     "data": {
      "text/plain": [
       "OrderedDict([('waic', tensor(13693.2158, grad_fn=<SumBackward0>)),\n",
       "             ('p_waic', tensor(585.1359, grad_fn=<SumBackward0>))])"
      ]
     },
     "execution_count": 3,
     "metadata": {},
     "output_type": "execute_result"
    }
   ],
   "source": [
    "svi_posterior.information_criterion()\n"
   ]
  },
  {
   "cell_type": "code",
   "execution_count": 21,
   "metadata": {},
   "outputs": [],
   "source": [
    "post_samples = posterior_samples(\n",
    "    p.wrapped_model,\n",
    "    svi_posterior,\n",
    "    data,\n",
    "    ['obs','prediction'],\n",
    "    num_samples=100 )"
   ]
  },
  {
   "cell_type": "code",
   "execution_count": 32,
   "metadata": {},
   "outputs": [],
   "source": [
    "svi_samples = {site: EmpiricalMarginal(svi_posterior, sites=site)\n",
    "                     .enumerate_support().detach().cpu().numpy()\n",
    "               for site in ['station_2hour_6','station_2hour_0','station_70hour_6']}"
   ]
  },
  {
   "cell_type": "code",
   "execution_count": 34,
   "metadata": {},
   "outputs": [
    {
     "data": {
      "text/plain": [
       "<matplotlib.axes._subplots.AxesSubplot at 0x3ebd79748>"
      ]
     },
     "execution_count": 34,
     "metadata": {},
     "output_type": "execute_result"
    },
    {
     "data": {
      "image/png": "[encoded data removed]",
      "text/plain": [
       "<Figure size 432x288 with 1 Axes>"
      ]
     },
     "metadata": {
      "needs_background": "light"
     },
     "output_type": "display_data"
    }
   ],
   "source": [
    "sns.distplot(svi_samples['station_2hour_0'],color='red')\n",
    "sns.distplot(svi_samples['station_2hour_6'],color='blue')\n",
    "sns.distplot(svi_samples['station_70hour_6'],color='green')"
   ]
  },
  {
   "cell_type": "code",
   "execution_count": 28,
   "metadata": {},
   "outputs": [
    {
     "data": {
      "text/plain": [
       "<matplotlib.axes._subplots.AxesSubplot at 0x171bca588>"
      ]
     },
     "execution_count": 28,
     "metadata": {},
     "output_type": "execute_result"
    },
    {
     "data": {
      "image/png": "[encoded data removed]",
      "text/plain": [
       "<Figure size 432x288 with 1 Axes>"
      ]
     },
     "metadata": {
      "needs_background": "light"
     },
     "output_type": "display_data"
    }
   ],
   "source": []
  },
  {
   "cell_type": "code",
   "execution_count": 16,
   "metadata": {},
   "outputs": [
    {
     "data": {
      "image/png": "[encoded data removed]",
      "text/plain": [
       "<Figure size 432x288 with 1 Axes>"
      ]
     },
     "metadata": {
      "needs_background": "light"
     },
     "output_type": "display_data"
    }
   ],
   "source": [
    "compare_test_statistic(data_samp.demand.values, post_samples[:,1,:],\n",
    "                           stat=perc_0)"
   ]
  },
  {
   "cell_type": "code",
   "execution_count": null,
   "metadata": {},
   "outputs": [],
   "source": []
  },
  {
   "cell_type": "code",
   "execution_count": 17,
   "metadata": {},
   "outputs": [
    {
     "data": {
      "image/png": "[encoded data removed]",
      "text/plain": [
       "<Figure size 432x288 with 1 Axes>"
      ]
     },
     "metadata": {
      "needs_background": "light"
     },
     "output_type": "display_data"
    }
   ],
   "source": [
    "compare_test_statistic(data_samp.demand.values, post_samples[:, 1, :],\n",
    "                       stat=max)"
   ]
  },
  {
   "cell_type": "code",
   "execution_count": 18,
   "metadata": {},
   "outputs": [
    {
     "data": {
      "image/png": "[encoded data removed]",
      "text/plain": [
       "<Figure size 432x288 with 1 Axes>"
      ]
     },
     "metadata": {
      "needs_background": "light"
     },
     "output_type": "display_data"
    }
   ],
   "source": [
    "    compare_test_statistic(data_samp.demand.values, post_samples[:, 1, :],\n",
    "                           stat=percentile, q=80)"
   ]
  },
  {
   "cell_type": "code",
   "execution_count": null,
   "metadata": {},
   "outputs": [],
   "source": []
  }
 ],
 "metadata": {
  "kernelspec": {
   "display_name": "Python 3",
   "language": "python",
   "name": "python3"
  },
  "language_info": {
   "codemirror_mode": {
    "name": "ipython",
    "version": 3
   },
   "file_extension": ".py",
   "mimetype": "text/x-python",
   "name": "python",
   "nbconvert_exporter": "python",
   "pygments_lexer": "ipython3",
   "version": "3.6.2"
  }
 },
 "nbformat": 4,
 "nbformat_minor": 2
}
