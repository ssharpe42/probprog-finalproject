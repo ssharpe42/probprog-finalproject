{
 "cells": [
  {
   "cell_type": "code",
   "execution_count": 1,
   "metadata": {},
   "outputs": [],
   "source": [
    "import pickle\n",
    "\n",
    "from station_hr_model import *\n",
    "from inference import *\n",
    "from criticism import *\n"
   ]
  },
  {
   "cell_type": "code",
   "execution_count": 3,
   "metadata": {},
   "outputs": [],
   "source": [
    "with open('data/demand_sample.pickle', 'rb') as f:\n",
    "    data_samp = pickle.load(f)\n",
    "\n",
    "\n",
    "#global features\n",
    "data, features = feature_generation(data_samp)\n",
    "\n",
    "p = station_hr_ZIP_model(features, data)\n",
    "\n",
    "\n",
    "svi_posterior = get_svi_posterior(data['data'], data['demand'],\n",
    "                                model = p.model,\n",
    "                                  guide = p.guide,\n",
    "                                  filename='models/nihaar_model/svi_zip_params.pkl')"
   ]
  },
  {
   "cell_type": "code",
   "execution_count": null,
   "metadata": {},
   "outputs": [],
   "source": [
    "post_samples = posterior_samples(\n",
    "    p.wrapped_model,\n",
    "    svi_posterior,\n",
    "    data,\n",
    "    ['obs','prediction'],\n",
    "    num_samples=80)"
   ]
  },
  {
   "cell_type": "code",
   "execution_count": null,
   "metadata": {},
   "outputs": [],
   "source": []
  }
 ],
 "metadata": {
  "kernelspec": {
   "display_name": "Python 3",
   "language": "python",
   "name": "python3"
  },
  "language_info": {
   "codemirror_mode": {
    "name": "ipython",
    "version": 3
   },
   "file_extension": ".py",
   "mimetype": "text/x-python",
   "name": "python",
   "nbconvert_exporter": "python",
   "pygments_lexer": "ipython3",
   "version": "3.6.2"
  }
 },
 "nbformat": 4,
 "nbformat_minor": 2
}
