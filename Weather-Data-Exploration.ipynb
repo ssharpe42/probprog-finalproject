{
 "cells": [
  {
   "cell_type": "code",
   "execution_count": 1,
   "metadata": {},
   "outputs": [],
   "source": [
    "import seaborn as sns\n",
    "import pandas as pd\n",
    "import pickle\n",
    "import matplotlib.pyplot as plt\n",
    "import numpy as np\n",
    "import torch"
   ]
  },
  {
   "cell_type": "code",
   "execution_count": 2,
   "metadata": {},
   "outputs": [],
   "source": [
    "import pickle\n",
    "\n",
    "#from model import *\n",
    "#from model2 import *\n",
    "from station_plus_hour_weather_model import *\n",
    "from inference import *\n",
    "from criticism import *"
   ]
  },
  {
   "cell_type": "code",
   "execution_count": 35,
   "metadata": {},
   "outputs": [],
   "source": [
    "with open('data/demand_and_weather.pickle', 'rb') as f:\n",
    "    data_weather = pickle.load(f)"
   ]
  },
  {
   "cell_type": "code",
   "execution_count": 36,
   "metadata": {},
   "outputs": [],
   "source": [
    "# data_weather[data_weather.columns[14:]].isnull().sum(axis = 0)"
   ]
  },
  {
   "cell_type": "code",
   "execution_count": 37,
   "metadata": {},
   "outputs": [],
   "source": [
    "data_weather = data_weather[data_weather.mean_temperature_f.notnull()].reset_index(drop = True)"
   ]
  },
  {
   "cell_type": "code",
   "execution_count": 38,
   "metadata": {},
   "outputs": [],
   "source": [
    "data  = data_weather"
   ]
  },
  {
   "cell_type": "code",
   "execution_count": 39,
   "metadata": {},
   "outputs": [],
   "source": [
    "# Get station id dummies:\n",
    "station_onehot = pd.get_dummies(\n",
    "    data['start_station_id']).add_prefix('station_')\n",
    "\n",
    "# Get hour dummies\n",
    "hour_onehot = pd.get_dummies(data['hour']).add_prefix('hour_')\n",
    "\n",
    "# Get mean temperature \n",
    "mean_temp = data[['mean_temperature_f']]\n",
    "mean_temp_squared = data[['mean_temperature_f']]**2\n",
    "constant_ones = np.ones(len(data['mean_temperature_f']))\n",
    "constant_ones = pd.DataFrame(data=constant_ones)\n",
    "\n",
    "# # Feature df\n",
    "# feature_df = pd.concat([station_onehot, hour_onehot, mean_temp,mean_temp_squared,constant_ones], axis=1)"
   ]
  },
  {
   "cell_type": "code",
   "execution_count": 40,
   "metadata": {},
   "outputs": [],
   "source": [
    "feature_df = pd.concat([station_onehot, hour_onehot, mean_temp,mean_temp_squared,constant_ones], axis=1).shape"
   ]
  },
  {
   "cell_type": "code",
   "execution_count": 6,
   "metadata": {},
   "outputs": [
    {
     "data": {
      "text/plain": [
       "tensor(61.0969, dtype=torch.float64)"
      ]
     },
     "execution_count": 6,
     "metadata": {},
     "output_type": "execute_result"
    }
   ],
   "source": [
    "torch.tensor(data_weather.mean_temperature_f.values).mean()\n"
   ]
  },
  {
   "cell_type": "code",
   "execution_count": 41,
   "metadata": {},
   "outputs": [],
   "source": [
    "a,b = feature_generation(data_weather)"
   ]
  },
  {
   "cell_type": "code",
   "execution_count": 49,
   "metadata": {},
   "outputs": [
    {
     "data": {
      "text/plain": [
       "tensor(7056.)"
      ]
     },
     "execution_count": 49,
     "metadata": {},
     "output_type": "execute_result"
    }
   ],
   "source": [
    "a['data'].max()"
   ]
  },
  {
   "cell_type": "code",
   "execution_count": 18,
   "metadata": {},
   "outputs": [
    {
     "data": {
      "text/plain": [
       "torch.Size([1208874, 97])"
      ]
     },
     "execution_count": 18,
     "metadata": {},
     "output_type": "execute_result"
    }
   ],
   "source": [
    "a['data'].shape"
   ]
  },
  {
   "cell_type": "code",
   "execution_count": 7,
   "metadata": {},
   "outputs": [],
   "source": [
    "dem = data_weather['demand']\n",
    "mean_temp = data_weather['mean_temperature_f']"
   ]
  },
  {
   "cell_type": "code",
   "execution_count": 28,
   "metadata": {},
   "outputs": [],
   "source": [
    "data_weather['temp_cat'] = pd.cut(data_weather['mean_temperature_f'], bins = [30,40,50,60,70,80,90,100] )"
   ]
  },
  {
   "cell_type": "code",
   "execution_count": 29,
   "metadata": {},
   "outputs": [
    {
     "data": {
      "text/plain": [
       "0          (60, 70]\n",
       "1          (60, 70]\n",
       "2          (60, 70]\n",
       "3          (60, 70]\n",
       "4          (60, 70]\n",
       "             ...   \n",
       "1208869    (70, 80]\n",
       "1208870    (70, 80]\n",
       "1208871    (70, 80]\n",
       "1208872    (70, 80]\n",
       "1208873    (70, 80]\n",
       "Name: temp_cat, Length: 1208874, dtype: category\n",
       "Categories (9, interval[int64]): [(20, 30] < (30, 40] < (40, 50] < (50, 60] ... (70, 80] < (80, 90] < (90, 100] < (100, 110]]"
      ]
     },
     "execution_count": 29,
     "metadata": {},
     "output_type": "execute_result"
    }
   ],
   "source": [
    "data_weather['temp_cat']"
   ]
  },
  {
   "cell_type": "code",
   "execution_count": 46,
   "metadata": {},
   "outputs": [
    {
     "data": {
      "text/plain": [
       "<matplotlib.axes._subplots.AxesSubplot at 0x1a0af0438>"
      ]
     },
     "execution_count": 46,
     "metadata": {},
     "output_type": "execute_result"
    },
    {
     "data": {
      "image/png": "[encoded data removed]",
      "text/plain": [
       "<Figure size 432x288 with 1 Axes>"
      ]
     },
     "metadata": {
      "needs_background": "light"
     },
     "output_type": "display_data"
    }
   ],
   "source": [
    "data_weather.groupby('mean_temperature_f')['demand'].mean().plot()"
   ]
  },
  {
   "cell_type": "markdown",
   "metadata": {},
   "source": [
    "### Plot demand rates for every minute (for a single bike station?) vs mean temperature \n",
    "#### At very low or high temperatures the demand is understandably lower"
   ]
  },
  {
   "cell_type": "code",
   "execution_count": 8,
   "metadata": {},
   "outputs": [
    {
     "data": {
      "image/png": "[encoded data removed]",
      "text/plain": [
       "<Figure size 432x288 with 1 Axes>"
      ]
     },
     "metadata": {
      "needs_background": "light"
     },
     "output_type": "display_data"
    }
   ],
   "source": [
    "plt.scatter(mean_temp[0:1000000],dem[0:1000000])\n",
    "plt.show()"
   ]
  },
  {
   "cell_type": "markdown",
   "metadata": {},
   "source": [
    "### Plotting a distribution over the temperature data \n",
    "#### Clearly lower and higher temperatures are less common so there is an imbalance in data points for these temperatures\n",
    "#### This means there can be bias if we simply use mean temperature in predicting demand "
   ]
  },
  {
   "cell_type": "code",
   "execution_count": 9,
   "metadata": {},
   "outputs": [
    {
     "data": {
      "text/plain": [
       "<matplotlib.axes._subplots.AxesSubplot at 0x12cb39278>"
      ]
     },
     "execution_count": 9,
     "metadata": {},
     "output_type": "execute_result"
    },
    {
     "data": {
      "image/png": "[encoded data removed]",
      "text/plain": [
       "<Figure size 432x288 with 1 Axes>"
      ]
     },
     "metadata": {
      "needs_background": "light"
     },
     "output_type": "display_data"
    }
   ],
   "source": [
    "mean_temp = [t for t in mean_temp if str(t)!='nan']\n",
    "sns.distplot(mean_temp)"
   ]
  },
  {
   "cell_type": "markdown",
   "metadata": {},
   "source": [
    "#### Let us investigate if presence of rain affects the demand adversely. Plotting distribution density (in blue) of demand for minutes with precipitation and distribution density (in orange) when there is no precipitation"
   ]
  },
  {
   "cell_type": "code",
   "execution_count": 69,
   "metadata": {},
   "outputs": [
    {
     "data": {
      "text/plain": [
       "<matplotlib.axes._subplots.AxesSubplot at 0x1207e6a90>"
      ]
     },
     "execution_count": 69,
     "metadata": {},
     "output_type": "execute_result"
    },
    {
     "data": {
      "image/png": "[encoded data removed]",
      "text/plain": [
       "<Figure size 432x288 with 1 Axes>"
      ]
     },
     "metadata": {
      "needs_background": "light"
     },
     "output_type": "display_data"
    }
   ],
   "source": [
    "mask_rain = data_weather['precipitation_inches']!='0'\n",
    "rainy_days = data_weather.loc[mask_rain]\n",
    "rainy_demand = np.array(rainy_days['demand'])\n",
    "sns.distplot(rainy_demand,color='blue')\n",
    "\n",
    "mask_dry = data_weather['precipitation_inches']=='0'\n",
    "dry_days = data_weather.loc[mask_dry]\n",
    "\n",
    "dry_demand = np.array(dry_days['demand'])\n",
    "sns.distplot(dry_demand,color='red')"
   ]
  },
  {
   "cell_type": "code",
   "execution_count": 67,
   "metadata": {},
   "outputs": [
    {
     "data": {
      "image/png": "[encoded data removed]",
      "text/plain": [
       "<Figure size 432x288 with 1 Axes>"
      ]
     },
     "metadata": {
      "needs_background": "light"
     },
     "output_type": "display_data"
    }
   ],
   "source": [
    "dem = data_weather['demand']\n",
    "min_temp = data_weather['min_temperature_f']\n",
    "\n",
    "plt.scatter(min_temp[0:1000000],dem[0:1000000])\n",
    "plt.show()"
   ]
  },
  {
   "cell_type": "code",
   "execution_count": 68,
   "metadata": {},
   "outputs": [
    {
     "data": {
      "image/png": "[encoded data removed]",
      "text/plain": [
       "<Figure size 432x288 with 1 Axes>"
      ]
     },
     "metadata": {
      "needs_background": "light"
     },
     "output_type": "display_data"
    }
   ],
   "source": [
    "dem = data_weather['demand']\n",
    "max_temp = data_weather['max_temperature_f']\n",
    "\n",
    "plt.scatter(max_temp[0:1000000],dem[0:1000000])\n",
    "plt.show()"
   ]
  },
  {
   "cell_type": "code",
   "execution_count": 1,
   "metadata": {},
   "outputs": [
    {
     "ename": "NameError",
     "evalue": "name 'data_weather' is not defined",
     "output_type": "error",
     "traceback": [
      "\u001b[0;31m---------------------------------------------------------------------------\u001b[0m",
      "\u001b[0;31mNameError\u001b[0m                                 Traceback (most recent call last)",
      "\u001b[0;32m<ipython-input-1-62ad6f87fbe5>\u001b[0m in \u001b[0;36m<module>\u001b[0;34m\u001b[0m\n\u001b[0;32m----> 1\u001b[0;31m \u001b[0mprec\u001b[0m\u001b[0;34m=\u001b[0m \u001b[0mdata_weather\u001b[0m\u001b[0;34m[\u001b[0m\u001b[0;34m'precipitation_inches'\u001b[0m\u001b[0;34m]\u001b[0m\u001b[0;34m\u001b[0m\u001b[0m\n\u001b[0m\u001b[1;32m      2\u001b[0m \u001b[0mdemand\u001b[0m \u001b[0;34m=\u001b[0m \u001b[0mdata_weather\u001b[0m\u001b[0;34m[\u001b[0m\u001b[0;34m'demand'\u001b[0m\u001b[0;34m]\u001b[0m\u001b[0;34m\u001b[0m\u001b[0m\n\u001b[1;32m      3\u001b[0m \u001b[0mmean_t\u001b[0m \u001b[0;34m=\u001b[0m \u001b[0mdata_weather\u001b[0m\u001b[0;34m[\u001b[0m\u001b[0;34m'mean_temperature_f'\u001b[0m\u001b[0;34m]\u001b[0m\u001b[0;34m\u001b[0m\u001b[0m\n\u001b[1;32m      4\u001b[0m \u001b[0;34m\u001b[0m\u001b[0m\n\u001b[1;32m      5\u001b[0m \u001b[0;31m# sns.heatmap()\u001b[0m\u001b[0;34m\u001b[0m\u001b[0;34m\u001b[0m\u001b[0m\n",
      "\u001b[0;31mNameError\u001b[0m: name 'data_weather' is not defined"
     ]
    }
   ],
   "source": [
    "prec= data_weather['precipitation_inches']\n",
    "demand = data_weather['demand']\n",
    "mean_t = data_weather['mean_temperature_f']\n",
    "\n",
    "# sns.heatmap()"
   ]
  },
  {
   "cell_type": "code",
   "execution_count": 68,
   "metadata": {},
   "outputs": [],
   "source": [
    "import pickle\n",
    "with open('data/demand_and_weather.pickle', 'rb') as f:\n",
    "    data1 = pickle.load(f)\n",
    "\n",
    "data2 = data1[['demand','start_station_id','hour','mean_temperature_f','precipitation_inches']]\n",
    "samp = data2.groupby(['start_station_id','hour']).apply(lambda x: x.sample(10)).reset_index(drop = True)\n",
    "with open('data/demand_weather_sample.pickle','wb') as f:\n",
    "    pickle.dump(samp, f)"
   ]
  },
  {
   "cell_type": "code",
   "execution_count": null,
   "metadata": {},
   "outputs": [],
   "source": []
  },
  {
   "cell_type": "code",
   "execution_count": 59,
   "metadata": {},
   "outputs": [],
   "source": [
    "station_onehot = pd.get_dummies(\n",
    "    samp['start_station_id']).add_prefix('station_')\n",
    "\n",
    "hour_onehot = pd.get_dummies(samp['hour']).add_prefix('hour_')\n",
    "\n",
    "feature_df = pd.concat([station_onehot, hour_onehot,], axis=1)\n",
    "\n"
   ]
  },
  {
   "cell_type": "code",
   "execution_count": null,
   "metadata": {},
   "outputs": [],
   "source": []
  },
  {
   "cell_type": "code",
   "execution_count": 90,
   "metadata": {},
   "outputs": [],
   "source": [
    "def feature_generation(data):\n",
    "\n",
    "    # Get station id dummies:\n",
    "    station_onehot = pd.get_dummies(\n",
    "        data['start_station_id']).add_prefix('station_')\n",
    "\n",
    "    # Get hour dummies\n",
    "    hour_onehot = pd.get_dummies(data['hour']).add_prefix('hour_')\n",
    "    \n",
    "    # Get mean temperature \n",
    "    mean_temp = data['mean_temperature_f']\n",
    "\n",
    "    # Feature df\n",
    "    feature_df = pd.concat([station_onehot, hour_onehot, mean_temp], axis=1)\n",
    "\n",
    "    data = {\n",
    "        'demand': torch.tensor(\n",
    "            data['demand'].values,\n",
    "            dtype=torch.float),\n",
    "        'data': torch.tensor(\n",
    "            feature_df.values,\n",
    "            dtype=torch.float)}\n",
    "\n",
    "    feature_info = {'station': {'names': station_onehot.columns.values,\n",
    "                                'index': np.array([\n",
    "                                    feature_df.columns.get_loc(c)\n",
    "                                    for c in station_onehot.columns])},\n",
    "                    'hour': {'names': hour_onehot.columns.values,\n",
    "                             'index': np.array([\n",
    "                                 feature_df.columns.get_loc(c)\n",
    "                                 for c in hour_onehot.columns])},\n",
    "                   'mean_temperature_f':{'names': 'mean_temp',\n",
    "                                         'index': np.array(['94'])}\n",
    "                       }\n",
    "\n",
    "    return data, feature_info"
   ]
  },
  {
   "cell_type": "code",
   "execution_count": 91,
   "metadata": {},
   "outputs": [],
   "source": [
    "data, features = feature_generation(samp)\n",
    "\n"
   ]
  },
  {
   "cell_type": "code",
   "execution_count": 92,
   "metadata": {},
   "outputs": [
    {
     "data": {
      "text/plain": [
       "{'station': {'names': array(['station_2', 'station_3', 'station_4', 'station_5', 'station_6',\n",
       "         'station_7', 'station_8', 'station_9', 'station_10', 'station_11',\n",
       "         'station_12', 'station_13', 'station_14', 'station_16',\n",
       "         'station_21', 'station_22', 'station_23', 'station_24',\n",
       "         'station_25', 'station_26', 'station_27', 'station_28',\n",
       "         'station_29', 'station_30', 'station_31', 'station_32',\n",
       "         'station_33', 'station_34', 'station_35', 'station_36',\n",
       "         'station_37', 'station_38', 'station_39', 'station_41',\n",
       "         'station_42', 'station_45', 'station_46', 'station_47',\n",
       "         'station_48', 'station_49', 'station_50', 'station_51',\n",
       "         'station_54', 'station_55', 'station_56', 'station_57',\n",
       "         'station_58', 'station_59', 'station_60', 'station_61',\n",
       "         'station_62', 'station_63', 'station_64', 'station_65',\n",
       "         'station_66', 'station_67', 'station_68', 'station_69',\n",
       "         'station_70', 'station_71', 'station_72', 'station_73',\n",
       "         'station_74', 'station_75', 'station_76', 'station_77',\n",
       "         'station_80', 'station_82', 'station_83', 'station_84'],\n",
       "        dtype=object),\n",
       "  'index': array([ 0,  1,  2,  3,  4,  5,  6,  7,  8,  9, 10, 11, 12, 13, 14, 15, 16,\n",
       "         17, 18, 19, 20, 21, 22, 23, 24, 25, 26, 27, 28, 29, 30, 31, 32, 33,\n",
       "         34, 35, 36, 37, 38, 39, 40, 41, 42, 43, 44, 45, 46, 47, 48, 49, 50,\n",
       "         51, 52, 53, 54, 55, 56, 57, 58, 59, 60, 61, 62, 63, 64, 65, 66, 67,\n",
       "         68, 69])},\n",
       " 'hour': {'names': array(['hour_0', 'hour_1', 'hour_2', 'hour_3', 'hour_4', 'hour_5',\n",
       "         'hour_6', 'hour_7', 'hour_8', 'hour_9', 'hour_10', 'hour_11',\n",
       "         'hour_12', 'hour_13', 'hour_14', 'hour_15', 'hour_16', 'hour_17',\n",
       "         'hour_18', 'hour_19', 'hour_20', 'hour_21', 'hour_22', 'hour_23'],\n",
       "        dtype=object),\n",
       "  'index': array([70, 71, 72, 73, 74, 75, 76, 77, 78, 79, 80, 81, 82, 83, 84, 85, 86,\n",
       "         87, 88, 89, 90, 91, 92, 93])},\n",
       " 'mean_temperature_f': {'names': 'mean_temp',\n",
       "  'index': array(['94'], dtype='<U2')}}"
      ]
     },
     "execution_count": 92,
     "metadata": {},
     "output_type": "execute_result"
    }
   ],
   "source": [
    "features"
   ]
  },
  {
   "cell_type": "code",
   "execution_count": null,
   "metadata": {},
   "outputs": [],
   "source": []
  }
 ],
 "metadata": {
  "kernelspec": {
   "display_name": "Python 3",
   "language": "python",
   "name": "python3"
  },
  "language_info": {
   "codemirror_mode": {
    "name": "ipython",
    "version": 3
   },
   "file_extension": ".py",
   "mimetype": "text/x-python",
   "name": "python",
   "nbconvert_exporter": "python",
   "pygments_lexer": "ipython3",
   "version": "3.6.2"
  }
 },
 "nbformat": 4,
 "nbformat_minor": 2
}
