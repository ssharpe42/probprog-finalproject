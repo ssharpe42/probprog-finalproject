{
 "cells": [
  {
   "cell_type": "code",
   "execution_count": 13,
   "metadata": {},
   "outputs": [],
   "source": [
    "import pickle\n",
    "\n",
    "from station_hr_day_zipgatereg import *\n",
    "from src.inference import *\n",
    "from src.criticism import *"
   ]
  },
  {
   "cell_type": "code",
   "execution_count": 2,
   "metadata": {},
   "outputs": [],
   "source": [
    "with open('/Users/nihaar/Documents/Fall19/ML_Probabilistic_Programming_Columbia/code/data/small_train_final_colab.pkl', 'rb') as f:\n",
    "    data_samp = pickle.load(f)"
   ]
  },
  {
   "cell_type": "markdown",
   "metadata": {},
   "source": []
  },
  {
   "cell_type": "code",
   "execution_count": 14,
   "metadata": {},
   "outputs": [],
   "source": [
    "test = data_samp.sample(frac=0.1, random_state=42)\n",
    "data, features = feature_generation(test)\n",
    "p = ZIPoissRegGate(features, data)\n"
   ]
  },
  {
   "cell_type": "code",
   "execution_count": 15,
   "metadata": {},
   "outputs": [
    {
     "data": {
      "text/plain": [
       "{'station': {'names': array(['station_2', 'station_3', 'station_4', 'station_5', 'station_6',\n",
       "         'station_7', 'station_8', 'station_9', 'station_10', 'station_11',\n",
       "         'station_12', 'station_13', 'station_14', 'station_16',\n",
       "         'station_21', 'station_22', 'station_26', 'station_27',\n",
       "         'station_28', 'station_29', 'station_30', 'station_31',\n",
       "         'station_32', 'station_33', 'station_34', 'station_35',\n",
       "         'station_36', 'station_37', 'station_38', 'station_39',\n",
       "         'station_41', 'station_42', 'station_45', 'station_46',\n",
       "         'station_47', 'station_48', 'station_49', 'station_50',\n",
       "         'station_51', 'station_54', 'station_55', 'station_56',\n",
       "         'station_57', 'station_58', 'station_59', 'station_60',\n",
       "         'station_61', 'station_62', 'station_63', 'station_64',\n",
       "         'station_65', 'station_66', 'station_67', 'station_68',\n",
       "         'station_69', 'station_70', 'station_71', 'station_73',\n",
       "         'station_74', 'station_75', 'station_76', 'station_77',\n",
       "         'station_82', 'station_84'], dtype=object),\n",
       "  'index': array([ 0,  1,  2,  3,  4,  5,  6,  7,  8,  9, 10, 11, 12, 13, 14, 15, 16,\n",
       "         17, 18, 19, 20, 21, 22, 23, 24, 25, 26, 27, 28, 29, 30, 31, 32, 33,\n",
       "         34, 35, 36, 37, 38, 39, 40, 41, 42, 43, 44, 45, 46, 47, 48, 49, 50,\n",
       "         51, 52, 53, 54, 55, 56, 57, 58, 59, 60, 61, 62, 63])},\n",
       " 'hour': {'names': array(['hour_0', 'hour_3', 'hour_6', 'hour_9', 'hour_12', 'hour_15',\n",
       "         'hour_18', 'hour_21'], dtype=object),\n",
       "  'index': array([64, 65, 66, 67, 68, 69, 70, 71])},\n",
       " 'daytype': {'names': array(['weekday', 'weekend'], dtype=object),\n",
       "  'index': array([72, 73])}}"
      ]
     },
     "execution_count": 15,
     "metadata": {},
     "output_type": "execute_result"
    }
   ],
   "source": [
    "features"
   ]
  },
  {
   "cell_type": "markdown",
   "metadata": {},
   "source": [
    "The model trained took a long time due to the number of parameters, so please use the trained params below"
   ]
  },
  {
   "cell_type": "code",
   "execution_count": 4,
   "metadata": {},
   "outputs": [],
   "source": [
    "svi_posterior = get_svi_posterior(data['data'], data['demand'],\n",
    "                                model = p.model,\n",
    "                                  guide = p.guide,\n",
    "                                  filename='models/svi_zip_params_station_plus_hr_day.pkl')"
   ]
  },
  {
   "cell_type": "code",
   "execution_count": 5,
   "metadata": {},
   "outputs": [
    {
     "name": "stdout",
     "output_type": "stream",
     "text": [
      "OrderedDict([('waic', tensor(625.6548, grad_fn=<SumBackward0>)), ('p_waic', tensor(16.6920, grad_fn=<SumBackward0>))])\n"
     ]
    }
   ],
   "source": [
    "print(svi_posterior.information_criterion())"
   ]
  },
  {
   "cell_type": "code",
   "execution_count": 35,
   "metadata": {},
   "outputs": [],
   "source": [
    "post_samples = ppd_samples(\n",
    "    p.wrapped_model,\n",
    "    svi_posterior,\n",
    "    data,\n",
    "    ['obs'],\n",
    "    num_samples=100)"
   ]
  },
  {
   "cell_type": "code",
   "execution_count": 19,
   "metadata": {},
   "outputs": [],
   "source": [
    "svi_samples = {site: EmpiricalMarginal(svi_posterior, sites=site)\n",
    "                     .enumerate_support().detach().cpu().numpy()\n",
    "               for site in ['station_70_hour_0_weekday','station_70_hour_3_weekday','station_70_hour_6_weekday','station_70_hour_9_weekday']}"
   ]
  },
  {
   "cell_type": "code",
   "execution_count": 17,
   "metadata": {},
   "outputs": [],
   "source": [
    "# def save_obj(obj, name ):\n",
    "#     with open('obj/'+ name + '.pkl', 'wb') as f:\n",
    "#         pickle.dump(obj, f, pickle.HIGHEST_PROTOCOL)\n",
    "\n",
    "# def load_obj(name ):\n",
    "#     with open('obj/' + name + '.pkl', 'rb') as f:\n",
    "#         return pickle.load(f)\n",
    "\n",
    "# save_obj(svi_samples,'station_hr_posterior_samples')\n",
    "\n",
    "with open('station_hr_posterior_samples.pkl', 'wb') as fp:\n",
    "    pickle.dump(svi_samples, fp, protocol=pickle.HIGHEST_PROTOCOL)"
   ]
  },
  {
   "cell_type": "code",
   "execution_count": 7,
   "metadata": {},
   "outputs": [
    {
     "data": {
      "text/plain": [
       "<matplotlib.axes._subplots.AxesSubplot at 0x1a24b83c8>"
      ]
     },
     "execution_count": 7,
     "metadata": {},
     "output_type": "execute_result"
    },
    {
     "data": {
      "image/png": "[encoded data removed]",
      "text/plain": [
       "<Figure size 432x288 with 1 Axes>"
      ]
     },
     "metadata": {
      "needs_background": "light"
     },
     "output_type": "display_data"
    }
   ],
   "source": [
    "sns.distplot(svi_samples['station_59_hour_0_weekday'],color='blue')# would expect low (weekday midnight-3am)\n",
    "sns.distplot(svi_samples['station_59_hour_9_weekday'],color='red') # expect high (9am weekday)\n",
    "sns.distplot(svi_samples['station_70_hour_9_weekday'],color='green')# expect high (popular station)\n",
    "sns.distplot(svi_samples['station_70_hour_6_weekend'],color='black') #would expect it to be low (weekend at 6-9am)"
   ]
  },
  {
   "cell_type": "code",
   "execution_count": 36,
   "metadata": {},
   "outputs": [
    {
     "data": {
      "image/png": "[encoded data removed]",
      "text/plain": [
       "<Figure size 432x288 with 1 Axes>"
      ]
     },
     "metadata": {
      "needs_background": "light"
     },
     "output_type": "display_data"
    }
   ],
   "source": [
    "compare_test_statistic(data_samp.demand.values, post_samples[:,0,:],\n",
    "                       stat=perc_0)"
   ]
  },
  {
   "cell_type": "code",
   "execution_count": 37,
   "metadata": {},
   "outputs": [
    {
     "data": {
      "image/png": "[encoded data removed]",
      "text/plain": [
       "<Figure size 432x288 with 1 Axes>"
      ]
     },
     "metadata": {
      "needs_background": "light"
     },
     "output_type": "display_data"
    }
   ],
   "source": [
    "compare_test_statistic(data_samp.demand.values, post_samples[:, 0, :],\n",
    "                       stat=max_)"
   ]
  },
  {
   "cell_type": "code",
   "execution_count": 38,
   "metadata": {},
   "outputs": [
    {
     "data": {
      "image/png": "[encoded data removed]",
      "text/plain": [
       "<Figure size 432x288 with 1 Axes>"
      ]
     },
     "metadata": {
      "needs_background": "light"
     },
     "output_type": "display_data"
    }
   ],
   "source": [
    "compare_test_statistic(data_samp.demand.values, post_samples[:, 0, :],\n",
    "                       stat=percentile, q=80)"
   ]
  },
  {
   "cell_type": "code",
   "execution_count": 26,
   "metadata": {},
   "outputs": [
    {
     "data": {
      "text/plain": [
       "(2014,)"
      ]
     },
     "execution_count": 26,
     "metadata": {},
     "output_type": "execute_result"
    }
   ],
   "source": [
    "pss[0,:].shape\n",
    "data_samp.demand.values.shape"
   ]
  },
  {
   "cell_type": "code",
   "execution_count": null,
   "metadata": {},
   "outputs": [],
   "source": []
  },
  {
   "cell_type": "code",
   "execution_count": null,
   "metadata": {},
   "outputs": [],
   "source": []
  }
 ],
 "metadata": {
  "kernelspec": {
   "display_name": "Python 3",
   "language": "python",
   "name": "python3"
  },
  "language_info": {
   "codemirror_mode": {
    "name": "ipython",
    "version": 3
   },
   "file_extension": ".py",
   "mimetype": "text/x-python",
   "name": "python",
   "nbconvert_exporter": "python",
   "pygments_lexer": "ipython3",
   "version": "3.6.2"
  }
 },
 "nbformat": 4,
 "nbformat_minor": 2
}
