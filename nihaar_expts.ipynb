{
 "cells": [
  {
   "cell_type": "code",
   "execution_count": 53,
   "metadata": {},
   "outputs": [],
   "source": [
    "import pickle\n",
    "\n",
    "from model import *\n",
    "from inference import *\n",
    "from criticism import *"
   ]
  },
  {
   "cell_type": "code",
   "execution_count": 3,
   "metadata": {},
   "outputs": [],
   "source": [
    "with open('data/demand_sample.pickle', 'rb') as f:\n",
    "    data_samp = pickle.load(f)"
   ]
  },
  {
   "cell_type": "code",
   "execution_count": 133,
   "metadata": {},
   "outputs": [
    {
     "data": {
      "text/plain": [
       "tensor([1., 0., 0., 0., 0., 0., 0., 0., 0., 0., 0., 0., 0., 0., 0., 0., 0., 0.,\n",
       "        0., 0., 0., 0., 0., 0., 0., 0., 0., 0., 0., 0., 0., 0., 0., 0., 0., 0.,\n",
       "        0., 0., 0., 0., 0., 0., 0., 0., 0., 0., 0., 0., 0., 0., 0., 0., 0., 0.,\n",
       "        0., 0., 0., 0., 0., 0., 0., 0., 0., 0., 0., 0., 0., 0., 0., 0., 1., 0.,\n",
       "        0., 0., 0., 0., 0., 0., 0., 0., 0., 0., 0., 0., 0., 0., 0., 0., 0., 0.,\n",
       "        0., 0., 0., 0.])"
      ]
     },
     "execution_count": 133,
     "metadata": {},
     "output_type": "execute_result"
    }
   ],
   "source": [
    "data, features = feature_generation(data_samp)\n",
    "# print(data[\"data\"].shape)\n",
    "data_data = data[\"data\"]\n",
    "data_demand = data[\"demand\"]\n",
    "# data[\"data\"][150:250,0]\n",
    "data_data[4,:]"
   ]
  },
  {
   "cell_type": "code",
   "execution_count": null,
   "metadata": {},
   "outputs": [],
   "source": []
  },
  {
   "cell_type": "code",
   "execution_count": null,
   "metadata": {},
   "outputs": [],
   "source": []
  },
  {
   "cell_type": "code",
   "execution_count": 58,
   "metadata": {},
   "outputs": [
    {
     "name": "stderr",
     "output_type": "stream",
     "text": [
      "/Users/nihaar/Documents/Fall19/ML_Probabilistic_Programming_Columbia/code/probprog-finalproject/model.py:72: TracerWarning: Converting a tensor to a Python index might cause the trace to be incorrect. We can't record the data flow of Python values, so this value will be treated as a constant in the future. This means that the trace might not generalize to other inputs!\n",
      "  with pyro.plate(\"data\", len(data)):\n",
      "Elbo loss: 40219.0546875\n",
      "Elbo loss: 11132.1015625\n"
     ]
    },
    {
     "name": "stdout",
     "output_type": "stream",
     "text": [
      "{}\n"
     ]
    },
    {
     "data": {
      "image/png": "[encoded data removed]",
      "text/plain": [
       "<Figure size 432x288 with 1 Axes>"
      ]
     },
     "metadata": {
      "needs_background": "light"
     },
     "output_type": "display_data"
    }
   ],
   "source": [
    "with open('data/demand_sample.pickle', 'rb') as f:\n",
    "    data_samp = pickle.load(f)\n",
    "\n",
    "\n",
    "#global features\n",
    "data, features = feature_generation(data_samp)\n",
    "p = PoissReg(features, data)\n",
    "\n",
    "svi, elbo_loss = run_svi(p.model, p.guide,\n",
    "                         iters=1000,\n",
    "                         data=data['data'],\n",
    "                         demand=data['demand'],\n",
    "                         filename='models/svi_params.pkl')\n",
    "\n",
    "plot_elbo(elbo_loss)\n",
    "print(svi.information_criterion())\n",
    "\n"
   ]
  },
  {
   "cell_type": "code",
   "execution_count": 138,
   "metadata": {},
   "outputs": [
    {
     "data": {
      "text/plain": [
       "{'demand': tensor([0., 0., 0.,  ..., 0., 0., 0.]),\n",
       " 'data': tensor([[1., 0., 0.,  ..., 0., 0., 0.],\n",
       "         [1., 0., 0.,  ..., 0., 0., 0.],\n",
       "         [1., 0., 0.,  ..., 0., 0., 0.],\n",
       "         ...,\n",
       "         [0., 0., 0.,  ..., 0., 0., 1.],\n",
       "         [0., 0., 0.,  ..., 0., 0., 1.],\n",
       "         [0., 0., 0.,  ..., 0., 0., 1.]])}"
      ]
     },
     "execution_count": 138,
     "metadata": {},
     "output_type": "execute_result"
    }
   ],
   "source": [
    "def posterior_samples(\n",
    "        wrapped_model,\n",
    "        svi_posterior,\n",
    "        data,\n",
    "        sites,\n",
    "        num_samples=200):\n",
    "    \"\"\"\n",
    "    Get samples from posterior (or use site 'prediction'\n",
    "    for posterior predictive\n",
    "\n",
    "    :param wrapped_model: wrapped model with prediction site\n",
    "    :param svi_posterior: posterior from svi.run\n",
    "    :param data: covariate features\n",
    "    :param sites: list of sites to take marginal over\n",
    "    :param num_samples: number of samples from posterior\n",
    "    :return: marginal over sites\n",
    "    \"\"\"\n",
    "    trace_pred = TracePredictive(wrapped_model,\n",
    "                                 svi_posterior,\n",
    "                                 num_samples=num_samples)\n",
    "    post_pred = trace_pred.run(data['data'], None)\n",
    "    marginal = get_marginal(post_pred, sites)\n",
    "\n",
    "    return marginal"
   ]
  },
  {
   "cell_type": "code",
   "execution_count": 142,
   "metadata": {},
   "outputs": [],
   "source": [
    "svi_posterior = get_svi_posterior(data['data'], data['demand'], svi=svi)"
   ]
  },
  {
   "cell_type": "code",
   "execution_count": 156,
   "metadata": {},
   "outputs": [
    {
     "data": {
      "text/plain": [
       "tensor([0., 0., 0., 0., 0., 0., 0., 0., 0., 0., 0., 0., 0., 0., 0., 0., 0., 0.,\n",
       "        0., 0., 0., 0., 0., 0., 0., 0., 0., 0., 0., 0., 0., 0., 0., 0., 0., 0.,\n",
       "        1., 0., 0., 2., 2., 2., 0., 4., 3., 3., 4., 0., 0., 2.])"
      ]
     },
     "execution_count": 156,
     "metadata": {},
     "output_type": "execute_result"
    }
   ],
   "source": [
    "data_demand[0:50]"
   ]
  },
  {
   "cell_type": "code",
   "execution_count": 137,
   "metadata": {},
   "outputs": [
    {
     "data": {
      "text/plain": [
       "<pyro.infer.svi.SVI at 0x1438b1e48>"
      ]
     },
     "execution_count": 137,
     "metadata": {},
     "output_type": "execute_result"
    }
   ],
   "source": [
    "\n",
    "\n",
    "post_samples = posterior_samples(\n",
    "    p.wrapped_model,\n",
    "    svi_posterior,\n",
    "    data,\n",
    "    ['obs','prediction'],\n",
    "    num_samples=200)\n",
    "\n",
    "summary = site_summary(post_samples, ['obs','prediction'])"
   ]
  },
  {
   "cell_type": "code",
   "execution_count": 172,
   "metadata": {},
   "outputs": [
    {
     "name": "stdout",
     "output_type": "stream",
     "text": [
      "0.18000000715255737 0.12999999523162842\n"
     ]
    }
   ],
   "source": [
    "i = 8241\n",
    "mu_i = summary[\"obs\"]['mean'][i]\n",
    "pred_i = summary[\"prediction\"]['mean'][i]\n",
    "print(mu_i,pred_i)"
   ]
  },
  {
   "cell_type": "code",
   "execution_count": 136,
   "metadata": {},
   "outputs": [
    {
     "data": {
      "text/plain": [
       "<matplotlib.axes._subplots.AxesSubplot at 0x142055be0>"
      ]
     },
     "execution_count": 136,
     "metadata": {},
     "output_type": "execute_result"
    },
    {
     "data": {
      "image/png": "[encoded data removed]",
      "text/plain": [
       "<Figure size 432x288 with 1 Axes>"
      ]
     },
     "metadata": {
      "needs_background": "light"
     },
     "output_type": "display_data"
    },
    {
     "data": {
      "image/png": "[encoded data removed]",
      "text/plain": [
       "<Figure size 432x288 with 1 Axes>"
      ]
     },
     "metadata": {
      "needs_background": "light"
     },
     "output_type": "display_data"
    }
   ],
   "source": [
    "h0_s1 = post_samples[:,0,1] # 200 samples (i) for the 0th (j) hour for station 1 (k)\n",
    "h1_s1 = post_samples[:,1,1] # 200 samples (i) for the 0th (j) hour for station 1 (k)\n",
    "import seaborn as sns\n",
    "# shows demand rate distribution for the specified hour and station\n",
    "sns.distplot(h0_s1,kde_kws={\"label\": \"station1_hour1\"},)\n",
    "plt.figure()\n",
    "sns.distplot(h1_s1,kde_kws={\"label\": \"station1_hour1\"},)"
   ]
  },
  {
   "cell_type": "code",
   "execution_count": 139,
   "metadata": {},
   "outputs": [
    {
     "data": {
      "text/plain": [
       "array([1., 0., 0., 0., 0., 0., 0., 0., 0., 0., 0., 0., 1., 0., 0., 1., 0.,\n",
       "       0., 0., 2., 1., 0., 0., 0., 0., 0., 0., 0., 0., 0., 0., 0., 1., 1.,\n",
       "       2., 0., 0., 0., 0., 1., 0., 0., 0., 1., 0., 0., 0., 0., 0., 0., 1.,\n",
       "       0., 2., 1., 1., 0., 0., 0., 0., 0., 0., 0., 0., 1., 0., 0., 0., 0.,\n",
       "       0., 0., 3., 0., 1., 0., 0., 0., 0., 0., 0., 0., 0., 0., 0., 0., 0.,\n",
       "       0., 0., 0., 1., 0., 0., 0., 0., 0., 1., 0., 0., 0., 0., 0., 0., 0.,\n",
       "       1., 0., 0., 0., 0., 0., 0., 0., 0., 0., 0., 0., 0., 1., 0., 0., 0.,\n",
       "       0., 0., 1., 0., 0., 0., 0., 0., 0., 0., 0., 1., 0., 0., 0., 0., 0.,\n",
       "       1., 0., 1., 1., 0., 0., 0., 0., 0., 0., 0., 0., 0., 0., 0., 0., 0.,\n",
       "       0., 0., 0., 0., 0., 2., 0., 0., 0., 0., 0., 0., 0., 0., 1., 1., 0.,\n",
       "       0., 0., 1., 0., 0., 0., 0., 0., 0., 0., 1., 0., 0., 0., 0., 0., 0.,\n",
       "       0., 0., 0., 0., 0., 0., 0., 0., 0., 0., 0., 0., 1.], dtype=float32)"
      ]
     },
     "execution_count": 139,
     "metadata": {},
     "output_type": "execute_result"
    }
   ],
   "source": [
    "h0_s1"
   ]
  },
  {
   "cell_type": "code",
   "execution_count": 62,
   "metadata": {},
   "outputs": [
    {
     "data": {
      "text/plain": [
       "{'obs':        mean       std   5%  25%  50%  75%   95%\n",
       " 0     0.145  0.393381  0.0  0.0  0.0  0.0  1.00\n",
       " 1     0.190  0.474368  0.0  0.0  0.0  0.0  1.00\n",
       " 2     0.190  0.393285  0.0  0.0  0.0  0.0  1.00\n",
       " 3     0.130  0.351737  0.0  0.0  0.0  0.0  1.00\n",
       " 4     0.150  0.385021  0.0  0.0  0.0  0.0  1.00\n",
       " ...     ...       ...  ...  ...  ...  ...   ...\n",
       " 8395  0.035  0.184241  0.0  0.0  0.0  0.0  0.00\n",
       " 8396  0.045  0.207824  0.0  0.0  0.0  0.0  0.00\n",
       " 8397  0.035  0.184241  0.0  0.0  0.0  0.0  0.00\n",
       " 8398  0.055  0.249573  0.0  0.0  0.0  0.0  0.05\n",
       " 8399  0.035  0.184241  0.0  0.0  0.0  0.0  0.00\n",
       " \n",
       " [8400 rows x 7 columns],\n",
       " 'prediction':        mean       std   5%  25%  50%  75%  95%\n",
       " 0     0.185  0.460254  0.0  0.0  0.0  0.0  1.0\n",
       " 1     0.150  0.385021  0.0  0.0  0.0  0.0  1.0\n",
       " 2     0.225  0.515464  0.0  0.0  0.0  0.0  1.0\n",
       " 3     0.175  0.441986  0.0  0.0  0.0  0.0  1.0\n",
       " 4     0.195  0.456087  0.0  0.0  0.0  0.0  1.0\n",
       " ...     ...       ...  ...  ...  ...  ...  ...\n",
       " 8395  0.010  0.099748  0.0  0.0  0.0  0.0  0.0\n",
       " 8396  0.055  0.228552  0.0  0.0  0.0  0.0  1.0\n",
       " 8397  0.045  0.207824  0.0  0.0  0.0  0.0  0.0\n",
       " 8398  0.015  0.121857  0.0  0.0  0.0  0.0  0.0\n",
       " 8399  0.020  0.140351  0.0  0.0  0.0  0.0  0.0\n",
       " \n",
       " [8400 rows x 7 columns]}"
      ]
     },
     "execution_count": 62,
     "metadata": {},
     "output_type": "execute_result"
    }
   ],
   "source": [
    "summary# what is the mean here and why is it different from the observation or prediction?\n"
   ]
  },
  {
   "cell_type": "code",
   "execution_count": 91,
   "metadata": {},
   "outputs": [],
   "source": [
    "def model_tmp(x):\n",
    "    s = pyro.param(\"s\",torch.Tensor([1.5]))\n",
    "    z = pyro.sample(\"z\",pyro.distributions.Normal(x,s))\n",
    "    return z**2\n"
   ]
  },
  {
   "cell_type": "code",
   "execution_count": 97,
   "metadata": {},
   "outputs": [],
   "source": [
    "trace = pyro.poutine.trace(model_tmp).get_trace(1.0)\n",
    "logp = trace.log_prob_sum()"
   ]
  },
  {
   "cell_type": "code",
   "execution_count": 98,
   "metadata": {},
   "outputs": [
    {
     "data": {
      "text/plain": [
       "tensor(-0.2278, grad_fn=<AddBackward0>)"
      ]
     },
     "execution_count": 98,
     "metadata": {},
     "output_type": "execute_result"
    }
   ],
   "source": [
    "logp"
   ]
  },
  {
   "cell_type": "code",
   "execution_count": 99,
   "metadata": {},
   "outputs": [],
   "source": [
    "params = [trace.nodes[name][\"value\"].unconstrained() for name in trace.param_nodes]"
   ]
  },
  {
   "cell_type": "code",
   "execution_count": 100,
   "metadata": {},
   "outputs": [
    {
     "data": {
      "text/plain": [
       "[tensor([0.5000], requires_grad=True)]"
      ]
     },
     "execution_count": 100,
     "metadata": {},
     "output_type": "execute_result"
    }
   ],
   "source": [
    "params"
   ]
  },
  {
   "cell_type": "code",
   "execution_count": 101,
   "metadata": {},
   "outputs": [
    {
     "data": {
      "text/plain": [
       "{'type': 'sample',\n",
       " 'name': 'z',\n",
       " 'fn': Normal(loc: tensor([1.]), scale: tensor([0.5000], requires_grad=True)),\n",
       " 'is_observed': False,\n",
       " 'args': (),\n",
       " 'kwargs': {},\n",
       " 'value': tensor([0.9680], grad_fn=<AddBackward0>),\n",
       " 'infer': {},\n",
       " 'scale': 1.0,\n",
       " 'mask': None,\n",
       " 'cond_indep_stack': (),\n",
       " 'done': True,\n",
       " 'stop': False,\n",
       " 'continuation': None,\n",
       " 'log_prob_sum': tensor(-0.2278, grad_fn=<SumBackward0>)}"
      ]
     },
     "execution_count": 101,
     "metadata": {},
     "output_type": "execute_result"
    }
   ],
   "source": [
    "trace.nodes[\"z\"]"
   ]
  },
  {
   "cell_type": "code",
   "execution_count": null,
   "metadata": {},
   "outputs": [],
   "source": []
  }
 ],
 "metadata": {
  "kernelspec": {
   "display_name": "Python 3",
   "language": "python",
   "name": "python3"
  },
  "language_info": {
   "codemirror_mode": {
    "name": "ipython",
    "version": 3
   },
   "file_extension": ".py",
   "mimetype": "text/x-python",
   "name": "python",
   "nbconvert_exporter": "python",
   "pygments_lexer": "ipython3",
   "version": "3.6.2"
  }
 },
 "nbformat": 4,
 "nbformat_minor": 2
}
