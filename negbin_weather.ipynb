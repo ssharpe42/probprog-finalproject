{
 "cells": [
  {
   "cell_type": "code",
   "execution_count": 1,
   "metadata": {},
   "outputs": [],
   "source": [
    "import pickle\n",
    "from negbin_weather import *\n",
    "from src.inference import *\n",
    "from src.criticism import *\n",
    "from src.preprocess_bikeshare import *"
   ]
  },
  {
   "cell_type": "code",
   "execution_count": 2,
   "metadata": {},
   "outputs": [],
   "source": [
    "with open('data/final_train_small.pickle', 'rb') as f:\n",
    "    data_samp = pickle.load(f)\n",
    "\n",
    "data, features = feature_generation(data_samp)\n",
    "p = NegBinReg(features, data)"
   ]
  },
  {
   "cell_type": "code",
   "execution_count": 3,
   "metadata": {},
   "outputs": [
    {
     "data": {
      "text/plain": [
       "{'station': {'names': array(['station_2', 'station_3', 'station_4', 'station_5', 'station_6',\n",
       "         'station_7', 'station_8', 'station_9', 'station_10', 'station_11',\n",
       "         'station_12', 'station_13', 'station_14', 'station_16',\n",
       "         'station_21', 'station_22', 'station_23', 'station_24',\n",
       "         'station_25', 'station_26', 'station_27', 'station_28',\n",
       "         'station_29', 'station_30', 'station_31', 'station_32',\n",
       "         'station_33', 'station_34', 'station_35', 'station_36',\n",
       "         'station_37', 'station_38', 'station_39', 'station_41',\n",
       "         'station_42', 'station_45', 'station_46', 'station_47',\n",
       "         'station_48', 'station_49', 'station_50', 'station_51',\n",
       "         'station_54', 'station_55', 'station_56', 'station_57',\n",
       "         'station_58', 'station_59', 'station_60', 'station_61',\n",
       "         'station_62', 'station_63', 'station_64', 'station_65',\n",
       "         'station_66', 'station_67', 'station_68', 'station_69',\n",
       "         'station_70', 'station_71', 'station_72', 'station_73',\n",
       "         'station_74', 'station_75', 'station_76', 'station_77',\n",
       "         'station_80', 'station_82', 'station_83', 'station_84'],\n",
       "        dtype=object),\n",
       "  'index': array([ 0,  1,  2,  3,  4,  5,  6,  7,  8,  9, 10, 11, 12, 13, 14, 15, 16,\n",
       "         17, 18, 19, 20, 21, 22, 23, 24, 25, 26, 27, 28, 29, 30, 31, 32, 33,\n",
       "         34, 35, 36, 37, 38, 39, 40, 41, 42, 43, 44, 45, 46, 47, 48, 49, 50,\n",
       "         51, 52, 53, 54, 55, 56, 57, 58, 59, 60, 61, 62, 63, 64, 65, 66, 67,\n",
       "         68, 69])},\n",
       " 'hour': {'names': array(['hour_0', 'hour_3', 'hour_6', 'hour_9', 'hour_12', 'hour_15',\n",
       "         'hour_18', 'hour_21'], dtype=object),\n",
       "  'index': array([70, 71, 72, 73, 74, 75, 76, 77])},\n",
       " 'daytype': {'names': array(['weekday', 'weekend'], dtype=object),\n",
       "  'index': array([78, 79])},\n",
       " 'temperature_f': {'names': array(['mean_temp', 'mean_temp_squared', 'ones'], dtype='<U17'),\n",
       "  'index': array([80, 81, 82])},\n",
       " 'precipitation_inches': {'names': array(['dry', 'rainy'], dtype=object),\n",
       "  'index': array([83, 84])}}"
      ]
     },
     "execution_count": 3,
     "metadata": {},
     "output_type": "execute_result"
    }
   ],
   "source": []
  },
  {
   "cell_type": "code",
   "execution_count": 4,
   "metadata": {},
   "outputs": [
    {
     "name": "stderr",
     "output_type": "stream",
     "text": [
      "/Users/nihaar/Documents/Fall19/ML_Probabilistic_Programming_Columbia/code/probprog-finalproject/negbin_weather.py:154: TracerWarning: torch.tensor results are registered as constants in the trace. You can safely ignore this warning if you use this function to create tensors out of constant variables that would be the same every time you call this function. In any other case, this might cause the trace to be incorrect.\n",
      "  total_count_loc = pyro.param('total_count_loc', torch.tensor(5.),\n",
      "/Users/nihaar/Documents/Fall19/ML_Probabilistic_Programming_Columbia/code/probprog-finalproject/negbin_weather.py:207: TracerWarning: torch.tensor results are registered as constants in the trace. You can safely ignore this warning if you use this function to create tensors out of constant variables that would be the same every time you call this function. In any other case, this might cause the trace to be incorrect.\n",
      "  torch.tensor(0.5)))\n",
      "/Users/nihaar/Documents/Fall19/ML_Probabilistic_Programming_Columbia/code/probprog-finalproject/negbin_weather.py:122: TracerWarning: Converting a tensor to a Python index might cause the trace to be incorrect. We can't record the data flow of Python values, so this value will be treated as a constant in the future. This means that the trace might not generalize to other inputs!\n",
      "  with pyro.plate(\"data\", len(data)):\n",
      "Elbo loss: 21132.35546875\n",
      "Elbo loss: 5488.03857421875\n",
      "Elbo loss: 3623.774169921875\n",
      "Elbo loss: 3620.68310546875\n",
      "Elbo loss: 3492.330810546875\n",
      "Elbo loss: 3465.963623046875\n",
      "Elbo loss: 3570.3916015625\n",
      "Elbo loss: 3710.83251953125\n",
      "Elbo loss: 3439.50634765625\n",
      "Elbo loss: 3439.909423828125\n"
     ]
    }
   ],
   "source": [
    "svi, elbo_loss = run_svi(p.model, p.guide,\n",
    "                         iters=5000,\n",
    "                         data=data['data'],\n",
    "                         demand=data['demand'],\n",
    "                         filename='models/negbin_weather_params.pkl')"
   ]
  },
  {
   "cell_type": "code",
   "execution_count": 5,
   "metadata": {},
   "outputs": [],
   "source": [
    "svi_posterior = get_svi_posterior(data['data'], data['demand'],\n",
    "                                  svi=svi)"
   ]
  },
  {
   "cell_type": "code",
   "execution_count": 6,
   "metadata": {},
   "outputs": [
    {
     "name": "stdout",
     "output_type": "stream",
     "text": [
      "OrderedDict([('waic', tensor(6810.2461, grad_fn=<SumBackward0>)), ('p_waic', tensor(206.4073, grad_fn=<SumBackward0>))])\n"
     ]
    }
   ],
   "source": [
    "print(svi.information_criterion())"
   ]
  },
  {
   "cell_type": "code",
   "execution_count": 8,
   "metadata": {},
   "outputs": [],
   "source": [
    "    post_samples_prec = ppd_samples(\n",
    "        p.wrapped_model,\n",
    "        svi_posterior,\n",
    "        data,\n",
    "        ['obs'],\n",
    "        num_samples=1000)"
   ]
  },
  {
   "cell_type": "code",
   "execution_count": 14,
   "metadata": {},
   "outputs": [
    {
     "data": {
      "image/png": "[encoded data removed]",
      "text/plain": [
       "<Figure size 432x288 with 1 Axes>"
      ]
     },
     "metadata": {
      "needs_background": "light"
     },
     "output_type": "display_data"
    }
   ],
   "source": [
    "\n",
    "compare_test_statistic(data_samp.demand.values, post_samples_prec[:,0,:],\n",
    "                       stat=perc_0,title='percent 0 demand using temp and prec')\n"
   ]
  },
  {
   "cell_type": "markdown",
   "metadata": {},
   "source": []
  },
  {
   "cell_type": "code",
   "execution_count": 7,
   "metadata": {},
   "outputs": [
    {
     "data": {
      "image/png": "[encoded data removed]",
      "text/plain": [
       "<Figure size 432x288 with 1 Axes>"
      ]
     },
     "metadata": {
      "needs_background": "light"
     },
     "output_type": "display_data"
    }
   ],
   "source": [
    "    compare_test_statistic(data_samp.demand.values, post_samples[:,0,:],\n",
    "                           stat=perc_0)"
   ]
  },
  {
   "cell_type": "code",
   "execution_count": 16,
   "metadata": {},
   "outputs": [
    {
     "data": {
      "image/png": "[encoded data removed]",
      "text/plain": [
       "<Figure size 432x288 with 1 Axes>"
      ]
     },
     "metadata": {
      "needs_background": "light"
     },
     "output_type": "display_data"
    }
   ],
   "source": [
    "\n",
    "compare_test_statistic(data_samp.demand.values, post_samples_prec[:,0,:],\n",
    "                       stat=max_,title='demand max distribution using temp and prec')"
   ]
  },
  {
   "cell_type": "code",
   "execution_count": 8,
   "metadata": {},
   "outputs": [
    {
     "data": {
      "image/png": "[encoded data removed]",
      "text/plain": [
       "<Figure size 432x288 with 1 Axes>"
      ]
     },
     "metadata": {
      "needs_background": "light"
     },
     "output_type": "display_data"
    }
   ],
   "source": [
    "    compare_test_statistic(data_samp.demand.values, post_samples[:, 0, :],\n",
    "                           stat=max_)"
   ]
  },
  {
   "cell_type": "code",
   "execution_count": 18,
   "metadata": {},
   "outputs": [
    {
     "data": {
      "image/png": "[encoded data removed]",
      "text/plain": [
       "<Figure size 432x288 with 1 Axes>"
      ]
     },
     "metadata": {
      "needs_background": "light"
     },
     "output_type": "display_data"
    }
   ],
   "source": [
    "compare_test_statistic(data_samp.demand.values, post_samples_prec[:,0,:],\n",
    "                       stat=percentile,q=80,title='80 percentile distribution using prec and temp')"
   ]
  },
  {
   "cell_type": "code",
   "execution_count": 9,
   "metadata": {},
   "outputs": [
    {
     "data": {
      "image/png": "[encoded data removed]",
      "text/plain": [
       "<Figure size 432x288 with 1 Axes>"
      ]
     },
     "metadata": {
      "needs_background": "light"
     },
     "output_type": "display_data"
    }
   ],
   "source": [
    "    compare_test_statistic(data_samp.demand.values, post_samples[:, 0, :],\n",
    "                           stat=percentile, q=80)"
   ]
  },
  {
   "cell_type": "code",
   "execution_count": null,
   "metadata": {},
   "outputs": [],
   "source": []
  }
 ],
 "metadata": {
  "kernelspec": {
   "display_name": "Python 3",
   "language": "python",
   "name": "python3"
  },
  "language_info": {
   "codemirror_mode": {
    "name": "ipython",
    "version": 3
   },
   "file_extension": ".py",
   "mimetype": "text/x-python",
   "name": "python",
   "nbconvert_exporter": "python",
   "pygments_lexer": "ipython3",
   "version": "3.6.2"
  }
 },
 "nbformat": 4,
 "nbformat_minor": 2
}
